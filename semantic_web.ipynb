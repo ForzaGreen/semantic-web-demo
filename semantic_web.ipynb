{
 "cells": [
  {
   "cell_type": "markdown",
   "metadata": {
    "block": 0,
    "deletable": true,
    "editable": true
   },
   "source": [
    "# Semantic Web: SPARQL Language\n",
    "_by Wael TELLAT_"
   ]
  },
  {
   "cell_type": "markdown",
   "metadata": {
    "block": 0,
    "deletable": true,
    "editable": true
   },
   "source": [
    "## Ressources:\n",
    "* Semantic Web course: http://www.eurecom.fr/~troncy/teaching/websem2017/ \n",
    "* To run queries: http://yasgui.org/ (or http://dbpedia.org/sparql)\n",
    "* Wikidata queries: https://query.wikidata.org/\n",
    "* A nice tutorial: http://www2.imm.dtu.dk/pubdb/views/edoc_download.php/6148/pdf"
   ]
  },
  {
   "cell_type": "markdown",
   "metadata": {
    "block": 0,
    "deletable": true,
    "editable": true
   },
   "source": [
    "## Let's query the Web !\n",
    "Some Questions we will try to answer to:\n",
    "* What are the 20 biggest cities in the world in terms of their population ?\n",
    "* What are the longitudes/latitudes of the 20 biggest french cities ?\n",
    "* What are the countries with 'Republic' in their name that were established before 1920 ?\n",
    "* How many people live in the capital of Australia ?\n",
    "* Names of all lakes in Denmark ?\n",
    "* How many Empoyees does PwC have ?\n",
    "* Who wrote the French national anthem ?\n",
    "* Did Tesla win the Nobel prize in physics ?\n"
   ]
  },
  {
   "cell_type": "code",
   "execution_count": 211,
   "metadata": {
    "block": 0,
    "collapsed": false
   },
   "outputs": [
    {
     "name": "stdout",
     "output_type": "stream",
     "text": [
      "\"n\"\n",
      "208109\n",
      "\n"
     ]
    }
   ],
   "source": [
    "# The number of employees in PwC, using SPARQL\n",
    "\n",
    "import requests, urllib\n",
    "\n",
    "query = \"\"\"\n",
    "    PREFIX o: <http://dbpedia.org/ontology/>\n",
    "    PREFIX r: <http://dbpedia.org/resource/>\n",
    "    SELECT DISTINCT ?n\n",
    "    WHERE\n",
    "    {\n",
    "        r:PricewaterhouseCoopers o:numberOfEmployees ?n\n",
    "    }\n",
    "\"\"\"\n",
    "param = urllib.parse.urlencode({\n",
    "        'format': 'text/csv', \n",
    "        'default-graph-uri': 'http://dbpedia.org', \n",
    "        'query': query\n",
    "    }).encode(\"utf-8\")\n",
    "endpoint = 'http://dbpedia.org/sparql'\n",
    "\n",
    "data = urllib.request.urlopen(endpoint, param).read().decode()\n",
    "print(data)"
   ]
  },
  {
   "cell_type": "code",
   "execution_count": 205,
   "metadata": {
    "block": 0,
    "collapsed": false,
    "deletable": true,
    "editable": true
   },
   "outputs": [],
   "source": [
    "import json\n",
    "import urllib\n",
    "import requests\n",
    "import csv"
   ]
  },
  {
   "cell_type": "code",
   "execution_count": 206,
   "metadata": {
    "block": 0,
    "collapsed": true,
    "deletable": true,
    "editable": true
   },
   "outputs": [],
   "source": [
    "def send_query(query, format='text/csv'):\n",
    "    # Query the DBpedia data in CSV format\n",
    "    # Parameter format={'text/csv', 'json'}\n",
    "    param = urllib.parse.urlencode({\n",
    "            'format': format, \n",
    "            'default-graph-uri': 'http://dbpedia.org', \n",
    "            'query': query\n",
    "        }).encode(\"utf-8\")\n",
    "    endpoint = 'http://dbpedia.org/sparql'\n",
    "    data = urllib.request.urlopen(endpoint, param).read().decode()\n",
    "    return data\n"
   ]
  },
  {
   "cell_type": "code",
   "execution_count": 207,
   "metadata": {
    "block": 0,
    "collapsed": false,
    "deletable": true,
    "editable": true
   },
   "outputs": [],
   "source": [
    "def pretty_print(data, format='text/csv'):\n",
    "    if format=='text/csv':\n",
    "        for row in csv.reader(data.split('\\n')):\n",
    "            print(row)\n",
    "    if format=='json':\n",
    "        for r in json.loads(data_json)['results']['bindings']:\n",
    "            print([r[k]['value'] for k in r.keys()])"
   ]
  },
  {
   "cell_type": "code",
   "execution_count": 208,
   "metadata": {
    "block": 0,
    "codeCollapsed": false,
    "collapsed": false,
    "deletable": true,
    "editable": true,
    "hiddenCell": false
   },
   "outputs": [],
   "source": [
    "# The 20 biggest cities in the world in terms of their population:\n",
    "query = \"\"\"\n",
    "    PREFIX rdf: <http://www.w3.org/1999/02/22-rdf-syntax-ns#>\n",
    "    PREFIX rdfs: <http://www.w3.org/2000/01/rdf-schema#>\n",
    "    PREFIX o: <http://dbpedia.org/ontology/>\n",
    "    PREFIX p: <http://dbpedia.org/property/>\n",
    "    PREFIX r: <http://dbpedia.org/resource/>\n",
    "    PREFIX f: <http://xmlns.com/foaf/0.1/>\n",
    "    SELECT DISTINCT ?name ?n\n",
    "    WHERE\n",
    "    {\n",
    "        ?x rdf:type o:City. \n",
    "        ?x p:populationTotal ?n .\n",
    "        ?x p:name ?name\n",
    "    }\n",
    "    ORDER BY DESC(xsd:integer(?n))\n",
    "    LIMIT 20\n",
    "\"\"\"\n",
    "data = send_query(query, format='text/csv')"
   ]
  },
  {
   "cell_type": "code",
   "execution_count": 209,
   "metadata": {
    "block": 0,
    "collapsed": false,
    "deletable": true,
    "editable": true
   },
   "outputs": [
    {
     "name": "stdout",
     "output_type": "stream",
     "text": [
      "['name', 'n']\n",
      "['Imphal City', '264986414288']\n",
      "['San Andrés Tuxtla', '61769157364']\n",
      "['Rajauri', '41552642415']\n",
      "['Mandla', '4946371579']\n",
      "['Santiago Tuxtla', '1545956427']\n",
      "['Karachi', '24300000']\n",
      "['Delhi', '16314838']\n",
      "['Mumbai', '12442373']\n",
      "['Cairo', '10230350']\n",
      "['Kinshasa', '10125000']\n",
      "['Lahore', '10052000']\n",
      "['Ameca', '10000000']\n",
      "['New York City', '8491079']\n",
      "['Bangalore', '8443675']\n",
      "['Bogotá', '7878783']\n",
      "['Chennai', '7088000']\n",
      "['Dhaka', '6970105']\n",
      "['Hyderabad', '6731790']\n",
      "['Ahmedabad', '5577940']\n",
      "['Muzaffarpur', '4801062']\n",
      "[]\n"
     ]
    }
   ],
   "source": [
    "pretty_print(data, format='text/csv')"
   ]
  },
  {
   "cell_type": "code",
   "execution_count": 196,
   "metadata": {
    "block": 0,
    "collapsed": false,
    "deletable": true,
    "editable": true
   },
   "outputs": [
    {
     "name": "stdout",
     "output_type": "stream",
     "text": [
      "\"label\",\"n\",\"lat\",\"long\"\n",
      "\"Paris\",2240621,48.8567,2.3508\n",
      "\"Marseille\",852516,43.2964,5.37\n",
      "\"Lyon\",500715,45.76,4.84\n",
      "\"Toulouse\",461190,43.6045,1.444\n",
      "\"Nice\",343629,43.7034,7.2663\n",
      "\"Poitiers\",298339,46.58,0.34\n",
      "\"Nantes\",284970,47.2181,-1.5528\n",
      "\"Strasbourg\",275718,48.58,7.75\n",
      "\"Montpellier\",268456,43.6119,3.8772\n",
      "\"Bordeaux\",241287,44.84,-0.58\n",
      "\"Lille\",228652,50.6278,3.0583\n",
      "\"Rennes\",211373,48.1147,-1.6794\n",
      "\"Reims\",188078,49.2628,4.0347\n",
      "\"Saint-Étienne\",178530,45.4347,4.3903\n",
      "\"Le Havre\",175497,49.49,0.1\n",
      "\"Toulon\",163974,43.13,5.92\n",
      "\"Grenoble\",156659,45.2002,5.7222\n",
      "\"Dijon\",152071,47.2906,5.04139\n",
      "\"Dijon\",152071,47.2906,5.0428\n",
      "\"Dijon\",152071,47.3219,5.04139\n",
      "\n"
     ]
    }
   ],
   "source": [
    "# The 20 biggest cities in the world in terms of their population:\n",
    "query = \"\"\"\n",
    "    PREFIX rdf: <http://www.w3.org/1999/02/22-rdf-syntax-ns#>\n",
    "    PREFIX rdfs: <http://www.w3.org/2000/01/rdf-schema#>\n",
    "    PREFIX o: <http://dbpedia.org/ontology/>\n",
    "    PREFIX p: <http://dbpedia.org/property/>\n",
    "    PREFIX r: <http://dbpedia.org/resource/>\n",
    "    PREFIX f: <http://xmlns.com/foaf/0.1/>\n",
    "    PREFIX geo: <http://www.w3.org/2003/01/geo/wgs84_pos#>\n",
    "    PREFIX yago: <http://dbpedia.org/class/yago/>\n",
    "    \n",
    "    SELECT DISTINCT ?label, ?n, ?lat, ?long\n",
    "    WHERE\n",
    "    {\n",
    "        ?x rdf:type yago:City108524735. \n",
    "        ?x o:country r:France.\n",
    "        ?x p:population ?n.\n",
    "        ?x rdfs:label ?label.\n",
    "        ?x geo:lat ?lat.\n",
    "        ?x geo:long ?long.\n",
    "        FILTER (lang(?label) = 'fr')\n",
    "    }\n",
    "    ORDER BY DESC(xsd:integer(?n))\n",
    "    LIMIT 20\n",
    "\"\"\"\n",
    "data = send_query(query, format='text/csv')\n",
    "print(data)"
   ]
  },
  {
   "cell_type": "code",
   "execution_count": null,
   "metadata": {
    "block": 0,
    "collapsed": false,
    "deletable": true,
    "editable": true
   },
   "outputs": [],
   "source": []
  },
  {
   "cell_type": "code",
   "execution_count": 145,
   "metadata": {
    "block": 0,
    "collapsed": false,
    "deletable": true,
    "editable": true
   },
   "outputs": [],
   "source": [
    "# The countries with 'Republic' in their name that were established before 1920\n",
    "query = \"\"\"\n",
    "PREFIX rdf: <http://www.w3.org/1999/02/22-rdf-syntax-ns#>\n",
    "PREFIX o: <http://dbpedia.org/ontology/>\n",
    "PREFIX p: <http://dbpedia.org/property/>\n",
    "SELECT DISTINCT ?y ?d\n",
    "WHERE\n",
    "{\n",
    "    ?x rdf:type o:Country.\n",
    "    ?x o:longName ?y.\n",
    "    ?x p:establishedDate ?d\n",
    "    FILTER regex(?y, \"Republic\", \"i\" )\n",
    "    MINUS {\n",
    "        ?x p:establishedDate ?d\n",
    "        FILTER(xsd:integer(?d)>1920)\n",
    "    }\n",
    "}\n",
    "\"\"\"\n",
    "data = send_query(query)\n",
    "# pretty_print(data)"
   ]
  },
  {
   "cell_type": "code",
   "execution_count": 146,
   "metadata": {
    "block": 0,
    "collapsed": false,
    "deletable": true,
    "editable": true
   },
   "outputs": [
    {
     "name": "stdout",
     "output_type": "stream",
     "text": [
      "['n']\n",
      "['381488']\n",
      "[]\n"
     ]
    }
   ],
   "source": [
    "# The number of people who live in the capital of Australia\n",
    "query = \"\"\"\n",
    "PREFIX o: <http://dbpedia.org/ontology/>\n",
    "PREFIX p: <http://dbpedia.org/property/>\n",
    "PREFIX r: <http://dbpedia.org/resource/>\n",
    "SELECT DISTINCT ?n\n",
    "WHERE\n",
    "{\n",
    "    r:Australia p:capital ?x.\n",
    "    ?x o:populationTotal ?n\n",
    "}\n",
    "\"\"\"\n",
    "data = send_query(query)\n",
    "pretty_print(data)"
   ]
  },
  {
   "cell_type": "code",
   "execution_count": 151,
   "metadata": {
    "block": 0,
    "collapsed": false,
    "deletable": true,
    "editable": true
   },
   "outputs": [
    {
     "name": "stdout",
     "output_type": "stream",
     "text": [
      "['l']\n",
      "['Lake Bagsværd']\n",
      "['The Lakes, Copenhagen']\n",
      "['Bølling Lake']\n",
      "['Furesø (lake)']\n",
      "[]\n"
     ]
    }
   ],
   "source": [
    "# The name of all lakes in Denmark:\n",
    "query = \"\"\"\n",
    "PREFIX rdf: <http://www.w3.org/1999/02/22-rdf-syntax-ns#>\n",
    "PREFIX o: <http://dbpedia.org/ontology/>\n",
    "PREFIX p: <http://dbpedia.org/property/>\n",
    "PREFIX r: <http://dbpedia.org/resource/>\n",
    "SELECT DISTINCT ?label\n",
    "WHERE\n",
    "{\n",
    "    { \n",
    "        ?x rdf:type o:Lake .\n",
    "        ?x o:country r:Denmark .\n",
    "        ?x rdfs:label ?label\n",
    "        FILTER (lang(?label) = 'en')\n",
    "    }\n",
    "    UNION\n",
    "    { ?x rdf:type r:LakesOfDenmark . }\n",
    "}\n",
    "\"\"\"\n",
    "data = send_query(query)\n",
    "pretty_print(data)"
   ]
  },
  {
   "cell_type": "code",
   "execution_count": 152,
   "metadata": {
    "block": 0,
    "collapsed": false,
    "deletable": true,
    "editable": true
   },
   "outputs": [
    {
     "name": "stdout",
     "output_type": "stream",
     "text": [
      "['n']\n",
      "['208109']\n",
      "[]\n"
     ]
    }
   ],
   "source": [
    "# The number of employees in PwC\n",
    "query = \"\"\"\n",
    "PREFIX o: <http://dbpedia.org/ontology/>\n",
    "PREFIX r: <http://dbpedia.org/resource/>\n",
    "SELECT DISTINCT ?n\n",
    "WHERE\n",
    "{\n",
    "    r:PricewaterhouseCoopers o:numberOfEmployees ?n\n",
    "}\n",
    "\"\"\"\n",
    "data = send_query(query)\n",
    "pretty_print(data)"
   ]
  },
  {
   "cell_type": "code",
   "execution_count": 156,
   "metadata": {
    "block": 0,
    "collapsed": false,
    "deletable": true,
    "editable": true
   },
   "outputs": [
    {
     "name": "stdout",
     "output_type": "stream",
     "text": [
      "['x', 'name', 'n']\n",
      "['http://dbpedia.org/resource/No_Surrender_(song)', 'No Surrender', '1984-06-04']\n",
      "['http://dbpedia.org/resource/Bobby_Jean', 'Bobby Jean', '1984-06-04']\n",
      "['http://dbpedia.org/resource/Downbound_Train', 'Downbound Train', '1984-06-04']\n",
      "['http://dbpedia.org/resource/Working_on_the_Highway', 'Working on the Highway', '1984-06-04']\n",
      "['http://dbpedia.org/resource/Darlington_County_(song)', 'Darlington County', '1984-06-04']\n",
      "['http://dbpedia.org/resource/Johnny_99_(song)', 'Johnny 99', '1982-09-30']\n",
      "['http://dbpedia.org/resource/Downbound_Train', '', '1984-06-04']\n",
      "['http://dbpedia.org/resource/Working_on_the_Highway', '', '1984-06-04']\n",
      "['http://dbpedia.org/resource/Darlington_County_(song)', '', '1984-06-04']\n",
      "['http://dbpedia.org/resource/Johnny_99_(song)', '', '1982-09-30']\n",
      "[]\n"
     ]
    }
   ],
   "source": [
    "# The list of songs from Bruce Springsteen released between 1980 and 1990:\n",
    "query = \"\"\"\n",
    "PREFIX rdf: <http://www.w3.org/1999/02/22-rdf-syntax-ns#>\n",
    "PREFIX o: <http://dbpedia.org/ontology/>\n",
    "PREFIX p: <http://dbpedia.org/property/>\n",
    "PREFIX r: <http://dbpedia.org/resource/>\n",
    "SELECT DISTINCT *\n",
    "WHERE\n",
    "{\n",
    "    {\n",
    "      ?x o:artist r:Bruce_Springsteen.\n",
    "      ?x p:name ?name\n",
    "    }\n",
    "    UNION {?x o:musicalArtist r:Bruce_Springsteen.}\n",
    "    UNION {?x o:musicalBand r:Bruce_Springsteen.}\n",
    "    UNION {?x o:producer r:Bruce_Springsteen.}\n",
    "    \n",
    "    ?x rdf:type o:Song .\n",
    "    ?x o:releaseDate ?n .\n",
    "    \n",
    "    FILTER( YEAR(?n)<1990 && YEAR(?n)>1980 )\n",
    "}\n",
    "\"\"\"\n",
    "data = send_query(query)\n",
    "pretty_print(data)"
   ]
  },
  {
   "cell_type": "code",
   "execution_count": 157,
   "metadata": {
    "block": 0,
    "collapsed": false,
    "deletable": true,
    "editable": true
   },
   "outputs": [
    {
     "name": "stdout",
     "output_type": "stream",
     "text": [
      "['x']\n",
      "['http://dbpedia.org/resource/Liam_Howlett']\n",
      "['http://dbpedia.org/resource/Keith_Flint']\n",
      "['http://dbpedia.org/resource/Maxim_(musician)']\n",
      "[]\n"
     ]
    }
   ],
   "source": [
    "# The list of members of Prodigy (the band):\n",
    "query = \"\"\"\n",
    "PREFIX o: <http://dbpedia.org/ontology/>\n",
    "PREFIX r: <http://dbpedia.org/resource/>\n",
    "SELECT DISTINCT *\n",
    "WHERE\n",
    "{\n",
    "    r:The_Prodigy o:bandMember ?x.\n",
    "}\n",
    "\"\"\"\n",
    "data = send_query(query)\n",
    "pretty_print(data)"
   ]
  },
  {
   "cell_type": "code",
   "execution_count": 162,
   "metadata": {
    "block": 0,
    "collapsed": false,
    "deletable": true,
    "editable": true
   },
   "outputs": [
    {
     "name": "stdout",
     "output_type": "stream",
     "text": [
      "['name']\n",
      "['Claude Joseph Rouget de Lisle']\n",
      "[]\n"
     ]
    }
   ],
   "source": [
    "# The author of the lyrics for the French national anthem:\n",
    "query = \"\"\"\n",
    "PREFIX o: <http://dbpedia.org/ontology/>\n",
    "PREFIX p: <http://dbpedia.org/property/>\n",
    "PREFIX r: <http://dbpedia.org/resource/>\n",
    "SELECT DISTINCT ?name\n",
    "WHERE\n",
    "{\n",
    "    r:France o:anthem ?y.\n",
    "    ?x o:occupation ?y.\n",
    "    ?x p:name ?name\n",
    "}\n",
    "\"\"\"\n",
    "data = send_query(query)\n",
    "pretty_print(data)"
   ]
  },
  {
   "cell_type": "code",
   "execution_count": 165,
   "metadata": {
    "block": 0,
    "collapsed": false,
    "deletable": true,
    "editable": true
   },
   "outputs": [
    {
     "name": "stdout",
     "output_type": "stream",
     "text": [
      "['bool']\n",
      "['0']\n",
      "[]\n"
     ]
    }
   ],
   "source": [
    "# A query that tells if Tesla won the Nobel prize in physics:\n",
    "query = \"\"\"\n",
    "PREFIX o: <http://dbpedia.org/ontology/>\n",
    "PREFIX r: <http://dbpedia.org/resource/>\n",
    "ASK\n",
    "{\n",
    "    r:Nikola_Tesla o:award r:Nobel_Prize_in_Physics.\n",
    "}\n",
    "\"\"\"\n",
    "data = send_query(query)\n",
    "pretty_print(data)"
   ]
  },
  {
   "cell_type": "code",
   "execution_count": 204,
   "metadata": {
    "block": 0,
    "collapsed": false,
    "deletable": true,
    "editable": true
   },
   "outputs": [
    {
     "name": "stdout",
     "output_type": "stream",
     "text": [
      "sth\n"
     ]
    }
   ],
   "source": [
    "print(\"sth\")"
   ]
  },
  {
   "cell_type": "code",
   "execution_count": null,
   "metadata": {
    "block": 0,
    "collapsed": true,
    "deletable": true,
    "editable": true
   },
   "outputs": [],
   "source": []
  }
 ],
 "metadata": {
  "kernelspec": {
   "display_name": "Python 3",
   "language": "python",
   "name": "python3"
  },
  "language_info": {
   "codemirror_mode": {
    "name": "ipython",
    "version": 3
   },
   "file_extension": ".py",
   "mimetype": "text/x-python",
   "name": "python",
   "nbconvert_exporter": "python",
   "pygments_lexer": "ipython3",
   "version": "3.5.3"
  }
 },
 "nbformat": 4,
 "nbformat_minor": 2
}
